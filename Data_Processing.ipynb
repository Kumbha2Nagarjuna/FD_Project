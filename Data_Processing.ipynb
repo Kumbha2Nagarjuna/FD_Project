{
 "cells": [
  {
   "cell_type": "markdown",
   "id": "6af665ae",
   "metadata": {},
   "source": [
    "The Dataset is Downloaded on 28 Nov 2024"
   ]
  },
  {
   "cell_type": "code",
   "execution_count": 5,
   "id": "04b62c18",
   "metadata": {},
   "outputs": [],
   "source": [
    "import pandas as pd\n",
    "\n",
    "# Load the dataset with a different encoding\n",
    "file_path = '2019VAERSDATA.csv'  # Update with your actual file path\n",
    "df = pd.read_csv(file_path, encoding='latin1')  # Try 'latin1' or 'ISO-8859-1'"
   ]
  },
  {
   "cell_type": "code",
   "execution_count": 6,
   "id": "f1045416",
   "metadata": {},
   "outputs": [
    {
     "name": "stdout",
     "output_type": "stream",
     "text": [
      "Filtered dataset saved as 'Filtered_VAERS_Data.csv'\n"
     ]
    }
   ],
   "source": [
    "# Select only the required columns\n",
    "columns_to_keep = ['AGE_YRS', 'SEX', 'SYMPTOM_TEXT', 'SPLTTYPE']\n",
    "filtered_df = df[columns_to_keep]\n",
    "\n",
    "# Save the filtered dataset to a new CSV file\n",
    "filtered_df.to_csv('Filtered_VAERS_Data.csv', index=False)\n",
    "\n",
    "print(\"Filtered dataset saved as 'Filtered_VAERS_Data.csv'\")\n"
   ]
  },
  {
   "cell_type": "code",
   "execution_count": 7,
   "id": "e61e94f8",
   "metadata": {},
   "outputs": [
    {
     "name": "stdout",
     "output_type": "stream",
     "text": [
      "Cleaned dataset saved as 'Filtered_Cleaned_Valid_Age_VAERS_Data.csv'\n"
     ]
    }
   ],
   "source": [
    "# Load the cleaned dataset\n",
    "filtered_df = pd.read_csv('Filtered_VAERS_Data.csv')\n",
    "\n",
    "# Convert AGE_YRS to numeric, coercing invalid entries to NaN\n",
    "filtered_df['AGE_YRS'] = pd.to_numeric(filtered_df['AGE_YRS'], errors='coerce')\n",
    "\n",
    "# Keep rows where AGE_YRS is >= 18 and is an integer\n",
    "filtered_df = filtered_df[(filtered_df['AGE_YRS'] >= 18) & (filtered_df['AGE_YRS'].apply(float.is_integer))]\n",
    "\n",
    "# Save the cleaned dataset to a new CSV file\n",
    "filtered_df.to_csv('Filtered_Cleaned_Valid_Age_VAERS_Data.csv', index=False)\n",
    "\n",
    "print(\"Cleaned dataset saved as 'Filtered_Cleaned_Valid_Age_VAERS_Data.csv'\")\n"
   ]
  },
  {
   "cell_type": "code",
   "execution_count": 8,
   "id": "e820992a",
   "metadata": {},
   "outputs": [
    {
     "name": "stdout",
     "output_type": "stream",
     "text": [
      "Filtered dataset saved with rows containing 'PFIZER' in the 'SPLTTYPE' column.\n"
     ]
    }
   ],
   "source": [
    "# Filter rows where 'SPLTTYPE' contains 'PFIZER'\n",
    "filtered_df = filtered_df[filtered_df['SPLTTYPE'].str.contains('PFIZER', na=False)]\n",
    "\n",
    "# Save the filtered dataset to a new CSV file\n",
    "filtered_df.to_csv('Filtered_Pfizer_VAERS_Data.csv', index=False)\n",
    "\n",
    "print(\"Filtered dataset saved with rows containing 'PFIZER' in the 'SPLTTYPE' column.\")\n"
   ]
  },
  {
   "cell_type": "code",
   "execution_count": 9,
   "id": "57e369c1",
   "metadata": {},
   "outputs": [],
   "source": [
    "# Define age groups\n",
    "bins = [18, 25, 35, 50, 60, 80, 100]\n",
    "labels = ['18-25', '26-35', '36-50', '51-60', '61-80', '81-100']\n",
    "\n",
    "# Create a new column for age groups\n",
    "filtered_df['AGE_GROUP'] = pd.cut(filtered_df['AGE_YRS'], bins=bins, labels=labels, right=False)\n",
    "\n",
    "# Save the updated dataset to a new CSV file\n",
    "filtered_df.to_csv('Pfizer_VAERS_with_Age_Group.csv', index=False)"
   ]
  },
  {
   "cell_type": "code",
   "execution_count": 11,
   "id": "380929e6",
   "metadata": {},
   "outputs": [],
   "source": [
    "# Load the uploaded dataset\n",
    "file_path = 'Pfizer_VAERS_with_Age_Group.csv'\n",
    "df = pd.read_csv(file_path)\n",
    "\n",
    "# Define mappings for adverse effects and organs affected\n",
    "adverse_effect_keywords = {\n",
    "    'fever': 'Fever',\n",
    "    'headache': 'Headache',\n",
    "    'pain': 'Pain',\n",
    "    'nausea': 'Nausea',\n",
    "    'dizziness': 'Dizziness',\n",
    "    'rash': 'Rash',\n",
    "    'chills': 'Chills',\n",
    "    'swelling': 'Swelling',\n",
    "    'vomiting': 'Vomiting',\n",
    "    'fatigue': 'Fatigue'\n",
    "}\n",
    "\n",
    "organs_affected_keywords = {\n",
    "    'fever': 'Systemic',\n",
    "    'headache': 'Nervous System',\n",
    "    'pain': 'Musculoskeletal System',\n",
    "    'nausea': 'Digestive System',\n",
    "    'dizziness': 'Nervous System',\n",
    "    'rash': 'Skin',\n",
    "    'chills': 'Systemic',\n",
    "    'swelling': 'Skin',\n",
    "    'vomiting': 'Digestive System',\n",
    "    'fatigue': 'Systemic'\n",
    "}\n",
    "\n",
    "# Function to extract adverse effects\n",
    "def extract_adverse_effects(text):\n",
    "    if pd.isna(text):\n",
    "        return '0'\n",
    "    effects = [effect for keyword, effect in adverse_effect_keywords.items() if keyword in text.lower()]\n",
    "    return ', '.join(effects) if effects else '0'\n",
    "\n",
    "# Function to extract organs affected\n",
    "def extract_organs_affected(text):\n",
    "    if pd.isna(text):\n",
    "        return '0'\n",
    "    organs = [organ for keyword, organ in organs_affected_keywords.items() if keyword in text.lower()]\n",
    "    return ', '.join(organs) if organs else '0'\n",
    "\n",
    "# Apply the functions to create new columns\n",
    "df['Adverse Effects'] = df['SYMPTOM_TEXT'].apply(extract_adverse_effects)\n",
    "df['Organs Affected'] = df['SYMPTOM_TEXT'].apply(extract_organs_affected)\n",
    "\n",
    "# Save the updated dataset\n",
    "output_path = 'Pfizer_VAERS_with_Adverse_Effects_and_Organs.csv'\n",
    "df.to_csv(output_path, index=False)\n"
   ]
  }
 ],
 "metadata": {
  "kernelspec": {
   "display_name": "Python 3 (ipykernel)",
   "language": "python",
   "name": "python3"
  },
  "language_info": {
   "codemirror_mode": {
    "name": "ipython",
    "version": 3
   },
   "file_extension": ".py",
   "mimetype": "text/x-python",
   "name": "python",
   "nbconvert_exporter": "python",
   "pygments_lexer": "ipython3",
   "version": "3.11.4"
  }
 },
 "nbformat": 4,
 "nbformat_minor": 5
}
